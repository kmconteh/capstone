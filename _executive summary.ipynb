{
 "cells": [
  {
   "attachments": {},
   "cell_type": "markdown",
   "metadata": {},
   "source": [
    "### Executive Summary\n",
    "Motivated by the global events resulting from the novel coronavirus this capstone explores the correlation between varied health, social and economic indicators and INFORM's country risk score to predict a country's risk to an outbreak. Using regression based modeling, the aim is to identify the most vulnerable countries at risk of an outbreak which can support decision makers in prioritization of funding and coordination of resources to mitigate risk. \n",
    "\n",
    "The preparatory work for the capstone involved research into recent regional and global health crises that could serve as useful case studies in data gathering for this project. Given the plethora of research on the Ebola Outbreak in recent years of the, this epidemic served as the primary case study of reference. The Ebola outbreak lasted from December 2013 to June 2016, though it was not officially declared a public health emergency by the World Health Organization (WHO) until August 8, 2014. The outbreak was primarily regional to West Africa with the countries Guinea, Sierra Leone and Liberia most impacted. The total cases reported during this time period was and 28,646 and the epidemic resulted in 11,323 deaths. \n",
    "\n",
    "The Ebola crisis provided many lessons learned for humanitarian frontline workers and decision makers, including the highlighted need for strengthened emergency preparedness planning through stronger institutional coordination of resources at varied levels of society from local communities to national planning and the international community. In addition, the Ebola epidemic revealed the inadequate health infrastructure of the more severely impacted countries due to lack of medical professionals and other frontline responders, as well as the vital health resources and medical equipment. These factors as a result,  further exasperated the crisis and proved difficult to contain the spread of disease. In addition to health specific factors for consideration as lessons learned from Ebola, other key non-health factors that also impacted the crisis include: demographics in relation to population age, density, and urban to rural concentration; economy, political stability, and recent or ongoing events such as natural disaster  or conflict that can compound a crisis.\n",
    "\n",
    "Taking a centralized approach for data gathering I utilized the World Bank, WHO and the Index For Risk Management (INFORM) datasets to collect country based health, and socio-economic and indicators in relation to the lessons learned from the recent Ebola outbreak. The data was collected via download directly from each respective site in the form of an excel file. The processing of the downloaded data proved the most challenging of the workflow process. In dealing with numerous excel files from three data sources key challenges centered on completeness, recentness and standardization of data. \n",
    "\n",
    "In regard to completeness, although datasets were available from the data sources highlighting the indicators from the Ebola outbreak lessons learned, unfortunately the indicator data was not complete for all countries. This resulted in a large amount of nulls after combining all indicator datasets into a master data frame. In addition to the challenges of nulls, another issue that arose upon a deeper review of the data collected is the recentness of the data. In some datasets available indicator data for countries dated as far back as the early  2000’s- which raised the question of ‘how old is too old?’ for data to include in the model. In response to the challenge of completeness and recentness of data, rather than risk imputing data I opted to remove extraneous indicators where a large number of countries were missing inputs and where the indicator date for all countries was not recent. \n",
    "\n",
    "Another challenge in data cleaning was standardization of the data. As the data was derived from three different sources, the list of countries which each site collected data varied. For example, the World Bank was the most comprehensive collecting data on all countries and territories, whereas the WHO was the most stringent, collecting data on countries only and excluding some islands. After combining the varied data sets into one master data frame this also resulted in a large number of nulls as countries identified in the World Bank datasets did not have data from the WHO and INFORM datasets. In response, I removed any country or territory that did not align across all three data sources.  After addressing the key challenges of completeness, recentness, and standardization the master dataset was reduced from 130 to 65 country indicators and 220 to 173 countries were used for exploratory data analysis and inclusion of the regression models for predicting level of risk of an epidemic."
   ]
  }
 ],
 "metadata": {
  "kernelspec": {
   "display_name": "Python 3",
   "language": "python",
   "name": "python3"
  },
  "language_info": {
   "codemirror_mode": {
    "name": "ipython",
    "version": 3
   },
   "file_extension": ".py",
   "mimetype": "text/x-python",
   "name": "python",
   "nbconvert_exporter": "python",
   "pygments_lexer": "ipython3",
   "version": "3.7.6"
  }
 },
 "nbformat": 4,
 "nbformat_minor": 4
}
